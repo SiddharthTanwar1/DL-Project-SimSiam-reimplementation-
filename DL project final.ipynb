{
 "cells": [
  {
   "cell_type": "code",
   "execution_count": 7,
   "id": "521be95d-1dcb-42a4-b553-7e0b7efb18f3",
   "metadata": {},
   "outputs": [
    {
     "name": "stderr",
     "output_type": "stream",
     "text": [
      "                                                                                \r"
     ]
    },
    {
     "name": "stdout",
     "output_type": "stream",
     "text": [
      "Epoch 001 | Avg Loss: -0.8575\n"
     ]
    },
    {
     "name": "stderr",
     "output_type": "stream",
     "text": [
      "                                                                                \r"
     ]
    },
    {
     "name": "stdout",
     "output_type": "stream",
     "text": [
      "Epoch 002 | Avg Loss: -0.9785\n"
     ]
    },
    {
     "name": "stderr",
     "output_type": "stream",
     "text": [
      "                                                                                \r"
     ]
    },
    {
     "name": "stdout",
     "output_type": "stream",
     "text": [
      "Epoch 003 | Avg Loss: -0.9399\n"
     ]
    },
    {
     "name": "stderr",
     "output_type": "stream",
     "text": [
      "                                                                                \r"
     ]
    },
    {
     "name": "stdout",
     "output_type": "stream",
     "text": [
      "Epoch 004 | Avg Loss: -0.9556\n"
     ]
    },
    {
     "name": "stderr",
     "output_type": "stream",
     "text": [
      "                                                                                \r"
     ]
    },
    {
     "name": "stdout",
     "output_type": "stream",
     "text": [
      "Epoch 005 | Avg Loss: -0.8531\n"
     ]
    },
    {
     "name": "stderr",
     "output_type": "stream",
     "text": [
      "                                                                                \r"
     ]
    },
    {
     "name": "stdout",
     "output_type": "stream",
     "text": [
      "Epoch 006 | Avg Loss: -0.9606\n"
     ]
    },
    {
     "name": "stderr",
     "output_type": "stream",
     "text": [
      "                                                                                \r"
     ]
    },
    {
     "name": "stdout",
     "output_type": "stream",
     "text": [
      "Epoch 007 | Avg Loss: -0.9823\n"
     ]
    },
    {
     "name": "stderr",
     "output_type": "stream",
     "text": [
      "                                                                                \r"
     ]
    },
    {
     "name": "stdout",
     "output_type": "stream",
     "text": [
      "Epoch 008 | Avg Loss: -0.9867\n"
     ]
    },
    {
     "name": "stderr",
     "output_type": "stream",
     "text": [
      "                                                                                \r"
     ]
    },
    {
     "name": "stdout",
     "output_type": "stream",
     "text": [
      "Epoch 009 | Avg Loss: -0.9880\n"
     ]
    },
    {
     "name": "stderr",
     "output_type": "stream",
     "text": [
      "                                                                                \r"
     ]
    },
    {
     "name": "stdout",
     "output_type": "stream",
     "text": [
      "Epoch 010 | Avg Loss: -0.9867\n"
     ]
    },
    {
     "name": "stderr",
     "output_type": "stream",
     "text": [
      "                                                                                \r"
     ]
    },
    {
     "name": "stdout",
     "output_type": "stream",
     "text": [
      "Epoch 011 | Avg Loss: -0.9854\n"
     ]
    },
    {
     "name": "stderr",
     "output_type": "stream",
     "text": [
      "                                                                                \r"
     ]
    },
    {
     "name": "stdout",
     "output_type": "stream",
     "text": [
      "Epoch 012 | Avg Loss: -0.9820\n"
     ]
    },
    {
     "name": "stderr",
     "output_type": "stream",
     "text": [
      "                                                                                \r"
     ]
    },
    {
     "name": "stdout",
     "output_type": "stream",
     "text": [
      "Epoch 013 | Avg Loss: -0.9715\n"
     ]
    },
    {
     "name": "stderr",
     "output_type": "stream",
     "text": [
      "                                                                                \r"
     ]
    },
    {
     "name": "stdout",
     "output_type": "stream",
     "text": [
      "Epoch 014 | Avg Loss: -0.9109\n"
     ]
    },
    {
     "name": "stderr",
     "output_type": "stream",
     "text": [
      "                                                                                "
     ]
    },
    {
     "name": "stdout",
     "output_type": "stream",
     "text": [
      "Epoch 015 | Avg Loss: -0.8986\n"
     ]
    },
    {
     "name": "stderr",
     "output_type": "stream",
     "text": [
      "\r"
     ]
    }
   ],
   "source": [
    "import torch\n",
    "import torch.nn as nn\n",
    "import torch.nn.functional as F\n",
    "import torch.optim as optim\n",
    "from torchvision import datasets, transforms\n",
    "from torchvision.models import resnet50\n",
    "from torch.utils.data import DataLoader\n",
    "from tqdm import tqdm\n",
    "\n",
    "\n",
    "# ---------- Data Augmentation (Two views) ----------\n",
    "class TwoCropsTransform:\n",
    "    def __init__(self, base_transform):\n",
    "        self.base_transform = base_transform\n",
    "\n",
    "    def __call__(self, x):\n",
    "        return [self.base_transform(x), self.base_transform(x)]\n",
    "\n",
    "simsiam_transform = transforms.Compose([\n",
    "    transforms.RandomResizedCrop(32, scale=(0.2, 1.0)),\n",
    "    transforms.RandomHorizontalFlip(),\n",
    "    transforms.ColorJitter(0.4, 0.4, 0.4, 0.1),\n",
    "    transforms.RandomGrayscale(p=0.2),\n",
    "    transforms.ToTensor(),\n",
    "    transforms.Normalize((0.4914, 0.4822, 0.4465), \n",
    "                         (0.2023, 0.1994, 0.2010)),\n",
    "])\n",
    "\n",
    "train_dataset = datasets.CIFAR10(\n",
    "    root='./data', train=True, download=True,\n",
    "    transform=TwoCropsTransform(simsiam_transform)\n",
    ")\n",
    "train_loader = DataLoader(train_dataset, batch_size=256, shuffle=True, num_workers=0, drop_last=True)\n",
    "\n",
    "# ---------- MLPs ----------\n",
    "class MLPHead(nn.Module):\n",
    "    def __init__(self, in_dim=2048, hidden_dim=2048, out_dim=2048):\n",
    "        super().__init__()\n",
    "        self.layers = nn.Sequential(\n",
    "            nn.Linear(in_dim, hidden_dim, bias=False),\n",
    "            nn.BatchNorm1d(hidden_dim),\n",
    "            nn.ReLU(inplace=True),\n",
    "\n",
    "            nn.Linear(hidden_dim, hidden_dim, bias=False),\n",
    "            nn.BatchNorm1d(hidden_dim),\n",
    "            nn.ReLU(inplace=True),\n",
    "\n",
    "            nn.Linear(hidden_dim, out_dim, bias=False),\n",
    "            nn.BatchNorm1d(out_dim, affine=False)  # No affine in last BN\n",
    "        )\n",
    "\n",
    "    def forward(self, x):\n",
    "        return self.layers(x)\n",
    "\n",
    "class Predictor(nn.Module):\n",
    "    def __init__(self, in_dim=2048, hidden_dim=512, out_dim=2048):\n",
    "        super().__init__()\n",
    "        self.layers = nn.Sequential(\n",
    "            nn.Linear(in_dim, hidden_dim, bias=False),\n",
    "            nn.BatchNorm1d(hidden_dim),\n",
    "            nn.ReLU(inplace=True),\n",
    "            nn.Linear(hidden_dim, out_dim)\n",
    "        )\n",
    "\n",
    "    def forward(self, x):\n",
    "        return self.layers(x)\n",
    "\n",
    "# ---------- SimSiam ----------\n",
    "class SimSiam(nn.Module):\n",
    "    def __init__(self, use_predictor=True):\n",
    "        super().__init__()\n",
    "        self.encoder = resnet50(weights=None)\n",
    "        self.encoder.fc = nn.Identity()  # Remove classification layer\n",
    "\n",
    "        self.projector = MLPHead(in_dim=2048)\n",
    "        self.use_predictor = use_predictor\n",
    "        if self.use_predictor:\n",
    "            self.predictor = Predictor()\n",
    "\n",
    "    def forward(self, x1, x2, stop_grad=True):\n",
    "        z1 = self.projector(self.encoder(x1))\n",
    "        z2 = self.projector(self.encoder(x2))\n",
    "\n",
    "        if self.use_predictor:\n",
    "            p1 = self.predictor(z1)\n",
    "            p2 = self.predictor(z2)\n",
    "        else:\n",
    "            p1, p2 = z1, z2\n",
    "\n",
    "        if stop_grad:\n",
    "            z1 = z1.detach()\n",
    "            z2 = z2.detach()\n",
    "\n",
    "        return p1, p2, z1, z2\n",
    "\n",
    "# ---------- Loss Function ----------\n",
    "def negative_cosine_similarity(p, z):\n",
    "    p = F.normalize(p, dim=1)\n",
    "    z = F.normalize(z, dim=1)\n",
    "    return - (p * z).sum(dim=1).mean()\n",
    "\n",
    "# ---------- Training Function ----------\n",
    "def train_simsiam(model, train_loader, epochs=100, lr=3e-4, stop_grad=True):\n",
    "    device = torch.device('cuda' if torch.cuda.is_available() else 'cpu')\n",
    "    model = model.to(device)\n",
    "\n",
    "    optimizer = optim.Adam(model.parameters(), lr=lr)\n",
    "    scheduler = optim.lr_scheduler.CosineAnnealingLR(optimizer, T_max=epochs)\n",
    "\n",
    "    for epoch in range(epochs):\n",
    "        model.train()\n",
    "        total_loss = 0\n",
    "        for (x1, x2), _ in tqdm(train_loader, desc=f\"Epoch {epoch+1}/{epochs}\", leave=False):\n",
    "            x1, x2 = x1.to(device), x2.to(device)\n",
    "\n",
    "            p1, p2, z1, z2 = model(x1, x2, stop_grad=stop_grad)\n",
    "            loss = 0.5 * negative_cosine_similarity(p1, z2) + 0.5 * negative_cosine_similarity(p2, z1)\n",
    "\n",
    "            optimizer.zero_grad()\n",
    "            loss.backward()\n",
    "            optimizer.step()\n",
    "\n",
    "            total_loss += loss.item()\n",
    "\n",
    "        scheduler.step()\n",
    "        avg_loss = total_loss / len(train_loader)\n",
    "        print(f\"Epoch {epoch+1:03d} | Avg Loss: {avg_loss:.4f}\")\n",
    "\n",
    "simsiam_model = SimSiam()  # ← instantiate your model\n",
    "train_simsiam(simsiam_model, train_loader, epochs=15)  # ← call the function\n"
   ]
  },
  {
   "cell_type": "code",
   "execution_count": 112,
   "id": "9abb24ee-2023-41c9-aad5-824cf1f139b0",
   "metadata": {},
   "outputs": [],
   "source": [
    "import torch\n",
    "import torch.nn as nn\n",
    "import torch.nn.functional as F\n",
    "import torch.optim as optim\n",
    "from torchvision import datasets, transforms\n",
    "from torchvision.models import resnet50\n",
    "from torch.utils.data import DataLoader\n",
    "from tqdm.notebook import tqdm\n",
    "import numpy as np\n",
    "from sklearn.neighbors import KNeighborsClassifier\n",
    "from sklearn.metrics import accuracy_score\n",
    "import copy\n",
    "\n",
    "# CIFAR-10 test loader\n",
    "test_transform = transforms.Compose([\n",
    "    transforms.ToTensor(),\n",
    "    transforms.Normalize((0.4914, 0.4822, 0.4465), (0.2023, 0.1994, 0.2010)),\n",
    "])\n",
    "test_dataset = datasets.CIFAR10(root='./data', train=False, download=True, transform=test_transform)\n",
    "test_loader = DataLoader(test_dataset, batch_size=256, shuffle=False, num_workers=0)\n",
    "\n",
    "# Linear Classifier\n",
    "class LinearClassifier(nn.Module):\n",
    "    def __init__(self, feature_dim=2048, num_classes=10):\n",
    "        super().__init__()\n",
    "        self.fc = nn.Linear(feature_dim, num_classes)\n",
    "\n",
    "    def forward(self, x):\n",
    "        return self.fc(x)\n",
    "\n",
    "# Linear Evaluation\n",
    "from tqdm import tqdm\n",
    "\n",
    "def linear_eval(model, train_loader, test_loader, epochs=3, lr=0.1):\n",
    "    device = torch.device(\"cuda\" if torch.cuda.is_available() else \"cpu\")\n",
    "    model = model.to(device)\n",
    "\n",
    "    # Freeze encoder\n",
    "    model.eval()\n",
    "    for param in model.parameters():\n",
    "        param.requires_grad = False\n",
    "\n",
    "\n",
    "    # Linear classifier\n",
    "    classifier = nn.Linear(2048, 10).to(device)\n",
    "    criterion = nn.CrossEntropyLoss()\n",
    "    optimizer = torch.optim.SGD(classifier.parameters(), lr=lr, momentum=0.9)\n",
    "\n",
    "    for epoch in range(epochs):\n",
    "        classifier.train()\n",
    "        total_loss = 0\n",
    "        correct = 0\n",
    "        total = 0\n",
    "        loop = tqdm(train_loader, desc=f\"[Linear Eval] Epoch {epoch+1}/{epochs}\", leave=False)\n",
    "        for x, target in loop:\n",
    "            x, target = x.to(device), target.to(device)\n",
    "            with torch.no_grad():\n",
    "                feat = model(x)\n",
    "            output = classifier(feat)\n",
    "            loss = criterion(output, target)\n",
    "\n",
    "            optimizer.zero_grad()\n",
    "            loss.backward()\n",
    "            optimizer.step()\n",
    "\n",
    "            total_loss += loss.item()\n",
    "            _, predicted = output.max(1)\n",
    "            correct += predicted.eq(target).sum().item()\n",
    "            total += target.size(0)\n",
    "\n",
    "            loop.set_postfix(loss=loss.item(), acc=100.*correct/total)\n",
    "\n",
    "    # Final accuracy on test set\n",
    "    classifier.eval()\n",
    "    correct = 0\n",
    "    total = 0\n",
    "    with torch.no_grad():\n",
    "        for x, target in tqdm(test_loader, desc=\"[Linear Eval] Testing\", leave=False):\n",
    "            x, target = x.to(device), target.to(device)\n",
    "            feat = model(x)\n",
    "            output = classifier(feat)\n",
    "            _, predicted = output.max(1)\n",
    "            correct += predicted.eq(target).sum().item()\n",
    "            total += target.size(0)\n",
    "\n",
    "    return 100. * correct / total\n",
    "\n",
    "# k-NN Evaluation\n",
    "def knn_eval(model, train_loader, test_loader, k=20):\n",
    "    device = torch.device(\"cuda\" if torch.cuda.is_available() else \"cpu\")\n",
    "    model = model.to(device)\n",
    "    model.eval()\n",
    "\n",
    "    # Extract all features\n",
    "    train_feats = []\n",
    "    train_labels = []\n",
    "    for x, y in tqdm(train_loader, desc=\"[kNN] Extracting train feats\", leave=False):\n",
    "        x = x.to(device)\n",
    "        with torch.no_grad():\n",
    "            feat = model(x)\n",
    "        train_feats.append(feat.cpu())\n",
    "        train_labels.append(y)\n",
    "\n",
    "    train_feats = torch.cat(train_feats)\n",
    "    train_labels = torch.cat(train_labels)\n",
    "\n",
    "    correct = 0\n",
    "    total = 0\n",
    "    for x, y in tqdm(test_loader, desc=\"[kNN] Evaluating\", leave=False):\n",
    "        x = x.to(device)\n",
    "        with torch.no_grad():\n",
    "            feat = model(x)\n",
    "\n",
    "        feat = feat.cpu()\n",
    "        sim = torch.mm(feat, train_feats.T)\n",
    "        _, topk_indices = sim.topk(k=k, dim=1)\n",
    "        topk_labels = train_labels[topk_indices]\n",
    "\n",
    "        preds = []\n",
    "        for labels in topk_labels:\n",
    "            pred = torch.bincount(labels).argmax().item()\n",
    "            preds.append(pred)\n",
    "\n",
    "        preds = torch.tensor(preds)\n",
    "        correct += (preds == y).sum().item()\n",
    "        total += y.size(0)\n",
    "\n",
    "    return 100. * correct / total\n"
   ]
  },
  {
   "cell_type": "code",
   "execution_count": 57,
   "id": "ecbc1d3d-8def-402b-8776-6c355d4f5c8b",
   "metadata": {},
   "outputs": [],
   "source": [
    "# 4A.Remove stop-gradient\n",
    "def train_ablation_no_stopgrad(model, train_loader, epochs=100, lr=3e-4):\n",
    "    print(\"Running ablation: removing stop-gradient...\")\n",
    "    return train_simsiam(model, train_loader, epochs=epochs, lr=lr, stop_grad=False)\n",
    "\n",
    "# 4B.Remove predictor\n",
    "class SimSiamNoPredictor(nn.Module):\n",
    "    def __init__(self)\n",
    "        super().__init__()\n",
    "        self.encoder = resnet50(pretrained=False)\n",
    "        self.encoder.fc = nn.Identity()\n",
    "        self.projector = MLPHead(in_dim=2048) \n",
    "        # No predictor MLP\n",
    "\n",
    "    def forward(self, x1, x2, stop_grad=True):\n",
    "        z1 = self.projector(self.encoder(x1))\n",
    "        z2 = self.projector(self.encoder(x2))\n",
    "        p1, p2 = z1, z2  \n",
    "        if stop_grad:\n",
    "            z1 = z1.detach()\n",
    "            z2 = z2.detach()\n",
    "        return p1, p2, z1, z2\n"
   ]
  },
  {
   "cell_type": "code",
   "execution_count": 59,
   "id": "500feb04-cf03-40dd-9439-8310d647de96",
   "metadata": {},
   "outputs": [],
   "source": [
    "from torchvision.transforms import RandAugment\n",
    "\n",
    "def get_advanced_augmentations(use_mixup=False, use_cutmix=False, use_randaugment=False):\n",
    "    aug_list = [\n",
    "        transforms.RandomResizedCrop(32, scale=(0.2, 1.0)),\n",
    "        transforms.RandomHorizontalFlip(),\n",
    "        transforms.ColorJitter(0.4, 0.4, 0.4, 0.1),\n",
    "        transforms.RandomGrayscale(p=0.2)\n",
    "    ]\n",
    "\n",
    "    if use_randaugment:\n",
    "        aug_list.insert(0, RandAugment(num_ops=2, magnitude=9))\n",
    "\n",
    "    aug_list += [\n",
    "        transforms.ToTensor(),\n",
    "        transforms.Normalize((0.4914, 0.4822, 0.4465), (0.2023, 0.1994, 0.2010))\n",
    "    ]\n",
    "\n",
    "    transform = transforms.Compose(aug_list)\n",
    "    return TwoCropsTransform(transform)\n"
   ]
  },
  {
   "cell_type": "code",
   "execution_count": 17,
   "id": "63a9cf7d-27c1-4da9-949e-fba15aef27eb",
   "metadata": {},
   "outputs": [],
   "source": [
    "import torch\n",
    "import torch.nn as nn\n",
    "import torchvision.models as models\n",
    "import urllib.request\n",
    "import os\n",
    "\n",
    "\n",
    "def download_dino_resnet50():\n",
    "    url = \"https://dl.fbaipublicfiles.com/dino/dino_resnet50_pretrain.pth\"\n",
    "    checkpoint_path = \"./dino_resnet50_pretrain.pth\"\n",
    "    if not os.path.exists(checkpoint_path):\n",
    "        print(\"Downloading DINO ResNet-50 checkpoint...\")\n",
    "        urllib.request.urlretrieve(url, checkpoint_path)\n",
    "        print(\"Download complete.\")\n",
    "    else:\n",
    "        print(\"Checkpoint already exists.\")\n",
    "    return checkpoint_path\n",
    "\n",
    "\n",
    "def load_dino_resnet50_model():\n",
    "    checkpoint_path = download_dino_resnet50()\n",
    "    state_dict = torch.load(checkpoint_path, map_location=\"cpu\")\n",
    "\n",
    "    # Initialize \n",
    "    model = models.resnet50(pretrained=False)\n",
    "    model.fc = nn.Identity()  \n",
    "\n",
    "    # Extract backbone \n",
    "    new_state_dict = {}\n",
    "    for k, v in state_dict.items():\n",
    "        if k.startswith(\"backbone.\") and not k.startswith(\"backbone.fc\"):\n",
    "            new_k = k.replace(\"backbone.\", \"\")\n",
    "            new_state_dict[new_k] = v\n",
    "\n",
    "    missing, unexpected = model.load_state_dict(new_state_dict, strict=False)\n",
    "    print(\"Loaded DINO ResNet-50. Missing:\", missing, \"| Unexpected:\", unexpected)\n",
    "\n",
    "    return model\n"
   ]
  },
  {
   "cell_type": "code",
   "execution_count": 81,
   "id": "afba405f-9ffe-489a-a81f-5c49fa71cc2b",
   "metadata": {},
   "outputs": [],
   "source": [
    "# SwAV:\n",
    "import os\n",
    "import urllib.request\n",
    "import torch\n",
    "import torch.nn as nn\n",
    "from torchvision import models\n",
    "\n",
    "def download_swav_resnet50():\n",
    "    url = \"https://dl.fbaipublicfiles.com/deepcluster/swav_800ep_pretrain.pth.tar\"\n",
    "    checkpoint_path = \"./swav_resnet50_pretrain.pth.tar\"\n",
    "    if not os.path.exists(checkpoint_path):\n",
    "        print(\"Downloading SwAV ResNet-50 checkpoint...\")\n",
    "        urllib.request.urlretrieve(url, checkpoint_path)\n",
    "        print(\"Download complete.\")\n",
    "    else:\n",
    "        print(\"Checkpoint already exists.\")\n",
    "    return checkpoint_path\n",
    "\n",
    "def load_swav_resnet50_model():\n",
    "    checkpoint_path = download_swav_resnet50()\n",
    "    checkpoint = torch.load(checkpoint_path, map_location=\"cpu\")\n",
    "\n",
    "   \n",
    "    state_dict = checkpoint.get(\"state_dict\", checkpoint)\n",
    "\n",
    "    model = models.resnet50(weights=None)\n",
    "    model.fc = nn.Identity()\n",
    "\n",
    "    # Rename keys \n",
    "    new_state_dict = {}\n",
    "    for k, v in state_dict.items():\n",
    "        if k.startswith(\"module.backbone.\") and not k.startswith(\"module.backbone.fc\"):\n",
    "            new_k = k.replace(\"module.backbone.\", \"\")\n",
    "            new_state_dict[new_k] = v\n",
    "\n",
    "    \n",
    "    missing, unexpected = model.load_state_dict(new_state_dict, strict=False)\n",
    "\n",
    "    print(\"Loaded SwAV ResNet-50.\")\n",
    "    if missing:\n",
    "        print(\" Missing keys:\", missing[:5], \"...\" if len(missing) > 5 else \"\")\n",
    "    if unexpected:\n",
    "        print(\" Unexpected keys:\", unexpected)\n",
    "\n",
    "    return model\n",
    "\n",
    "# SimCLR \n",
    "def load_simclr_resnet50_model():\n",
    "    print(\"Loading SimCLR-like ResNet-50 (placeholder from torchvision)...\")\n",
    "    model = models.resnet50(pretrained=True)  # ImageNet pretrained\n",
    "    model.fc = nn.Identity()\n",
    "    return model\n",
    "\n",
    "# BYOL \n",
    "def load_byol_resnet50_model():\n",
    "    print(\"Loading BYOL-like ResNet-50 (placeholder from torchvision)...\")\n",
    "    model = models.resnet50(pretrained=True)\n",
    "    model.fc = nn.Identity()\n",
    "    return model\n"
   ]
  },
  {
   "cell_type": "code",
   "execution_count": 65,
   "id": "681fe997-08d2-4730-ba63-e90cd8a33a5e",
   "metadata": {},
   "outputs": [
    {
     "name": "stdout",
     "output_type": "stream",
     "text": [
      "Loaded SimCLR ResNet-50. Missing: [] | Unexpected: []\n"
     ]
    }
   ],
   "source": [
    "import torch\n",
    "import torchvision.models as models\n",
    "import torch.nn as nn\n",
    "\n",
    "# Load the checkpoin\n",
    "checkpoint = torch.load('/Users/siddharthtanwar/Documents/York/DL/sim siam/checkpoint_100.tar', map_location='cpu')\n",
    "\n",
    "simclr_model = models.resnet50(weights=None)\n",
    "simclr_model.fc = nn.Identity()  \n",
    "\n",
    "\n",
    "new_state_dict = {}\n",
    "for k, v in checkpoint.items():\n",
    "    if k.startswith(\"encoder.\"):\n",
    "        new_k = k[len(\"encoder.\"):] \n",
    "        new_state_dict[new_k] = v\n",
    "# Load weights\n",
    "missing, unexpected = simclr_model.load_state_dict(new_state_dict, strict=False)\n",
    "print(\"Loaded SimCLR ResNet-50. Missing:\", missing, \"| Unexpected:\", unexpected)"
   ]
  },
  {
   "cell_type": "code",
   "execution_count": 67,
   "id": "19d3dce0-7397-4a71-b140-3858ac243795",
   "metadata": {},
   "outputs": [
    {
     "name": "stdout",
     "output_type": "stream",
     "text": [
      "Loaded BYOL ResNet-50. Missing: []\n",
      "Unexpected: []\n"
     ]
    }
   ],
   "source": [
    "\n",
    "checkpoint = torch.load('/Users/siddharthtanwar/Documents/York/DL/sim siam/resnet50_byol_imagenet2012.pth.tar', map_location='cpu', weights_only=False)\n",
    "\n",
    "# Extract encoder weights\n",
    "byol_state_dict = checkpoint['online_backbone']\n",
    "\n",
    "\n",
    "fixed_state_dict = {}\n",
    "for k, v in byol_state_dict.items():\n",
    "    if k.startswith(\"module.\"):\n",
    "        fixed_state_dict[k.replace(\"module.\", \"\")] = v\n",
    "    else:\n",
    "        fixed_state_dict[k] = v\n",
    "\n",
    "# Load into ResNet-50\n",
    "byol_model = models.resnet50(pretrained=False)\n",
    "byol_model.fc = nn.Identity()\n",
    "\n",
    "missing, unexpected = byol_model.load_state_dict(fixed_state_dict, strict=False)\n",
    "print(\"Loaded BYOL ResNet-50. Missing:\", missing)\n",
    "print(\"Unexpected:\", unexpected)\n"
   ]
  },
  {
   "cell_type": "code",
   "execution_count": 156,
   "id": "cd38128b-9001-471d-b551-c95b5b8ff625",
   "metadata": {},
   "outputs": [],
   "source": [
    "import torch\n",
    "import torch.nn as nn\n",
    "from torchvision import transforms, datasets\n",
    "from torch.utils.data import DataLoader\n",
    "from tqdm import tqdm\n",
    "\n",
    "\n",
    "class PretrainedWrapper(nn.Module):\n",
    "    def __init__(self, model):\n",
    "        super().__init__()\n",
    "        self.encoder = getattr(model, 'encoder', model)\n",
    "        if hasattr(self.encoder, 'fc'):\n",
    "            self.encoder.fc = nn.Identity()\n",
    "\n",
    "    def forward(self, x):\n",
    "        with torch.no_grad():\n",
    "            return self.encoder(x)\n",
    "\n",
    "\n",
    "_cached_loaders = {}\n",
    "\n",
    "def get_eval_loaders(use_imagenet_stats=True, subset_fraction=1.0, batch_size=128, seed=42):\n",
    "    from torch.utils.data import Subset\n",
    "    import random\n",
    "\n",
    "    if use_imagenet_stats:\n",
    "        transform = transforms.Compose([\n",
    "            transforms.Resize(224),\n",
    "            transforms.ToTensor(),\n",
    "            transforms.Normalize((0.485, 0.456, 0.406),\n",
    "                                 (0.229, 0.224, 0.225)),\n",
    "        ])\n",
    "    else:\n",
    "        transform = transforms.Compose([\n",
    "            transforms.ToTensor(),\n",
    "            transforms.Normalize((0.4914, 0.4822, 0.4465),\n",
    "                                 (0.2023, 0.1994, 0.2010)),\n",
    "        ])\n",
    "\n",
    "    train_dataset = datasets.CIFAR10(root='./data', train=True, download=True, transform=transform)\n",
    "    test_dataset = datasets.CIFAR10(root='./data', train=False, download=True, transform=transform)\n",
    "\n",
    "    if subset_fraction < 1.0:\n",
    "        random.seed(seed)\n",
    "        subset_size = int(len(train_dataset) * subset_fraction)\n",
    "        subset_indices = random.sample(range(len(train_dataset)), subset_size)\n",
    "        train_dataset = Subset(train_dataset, subset_indices)\n",
    "\n",
    "    train_loader = DataLoader(train_dataset, batch_size=batch_size, shuffle=True, num_workers=2)\n",
    "    test_loader = DataLoader(test_dataset, batch_size=batch_size, shuffle=False, num_workers=2)\n",
    "\n",
    "    return train_loader, test_loader\n",
    "\n",
    "\n",
    "# evaluation function \n",
    "def evaluate_all_models(model_dict, subset_fraction=1.0, epochs=5):\n",
    "    results = {}\n",
    "\n",
    "    for name, model in model_dict.items():\n",
    "        print(f\"\\n====== Evaluating {name} ======\")\n",
    "\n",
    "       \n",
    "        use_imagenet_stats = not (\"SimSiam\" in name)\n",
    "\n",
    "      \n",
    "        train_loader_eval, test_loader_eval = get_eval_loaders(use_imagenet_stats, subset_fraction)\n",
    "\n",
    "        \n",
    "        wrapped = PretrainedWrapper(model)\n",
    "\n",
    "       \n",
    "        lin_acc = linear_eval(wrapped, train_loader_eval, test_loader_eval, epochs=epochs)\n",
    "        knn_acc = knn_eval(wrapped, train_loader_eval, test_loader_eval, k=10)\n",
    "\n",
    "        results[name] = {'linear_top1': lin_acc, 'knn_top1': knn_acc}\n",
    "\n",
    "    return results\n",
    "\n"
   ]
  },
  {
   "cell_type": "code",
   "execution_count": 83,
   "id": "41a74945-48fc-4e93-8b62-66a41327842e",
   "metadata": {},
   "outputs": [
    {
     "name": "stdout",
     "output_type": "stream",
     "text": [
      "Checkpoint already exists.\n",
      "✅ Loaded SwAV ResNet-50.\n",
      "⚠️ Missing keys: ['conv1.weight', 'bn1.weight', 'bn1.bias', 'bn1.running_mean', 'bn1.running_var'] ...\n"
     ]
    },
    {
     "name": "stderr",
     "output_type": "stream",
     "text": [
      "                                                                                \r"
     ]
    },
    {
     "name": "stdout",
     "output_type": "stream",
     "text": [
      "Epoch 001 | Avg Loss: -0.9227\n"
     ]
    },
    {
     "name": "stderr",
     "output_type": "stream",
     "text": [
      "                                                                                \r"
     ]
    },
    {
     "name": "stdout",
     "output_type": "stream",
     "text": [
      "Epoch 002 | Avg Loss: -0.9653\n"
     ]
    },
    {
     "name": "stderr",
     "output_type": "stream",
     "text": [
      "                                                                                \r"
     ]
    },
    {
     "name": "stdout",
     "output_type": "stream",
     "text": [
      "Epoch 003 | Avg Loss: -0.9762\n"
     ]
    },
    {
     "name": "stderr",
     "output_type": "stream",
     "text": [
      "                                                                                \r"
     ]
    },
    {
     "name": "stdout",
     "output_type": "stream",
     "text": [
      "Epoch 004 | Avg Loss: -0.9780\n"
     ]
    },
    {
     "name": "stderr",
     "output_type": "stream",
     "text": [
      "                                                                                \r"
     ]
    },
    {
     "name": "stdout",
     "output_type": "stream",
     "text": [
      "Epoch 005 | Avg Loss: -0.9828\n"
     ]
    },
    {
     "name": "stderr",
     "output_type": "stream",
     "text": [
      "                                                                                \r"
     ]
    },
    {
     "name": "stdout",
     "output_type": "stream",
     "text": [
      "Epoch 006 | Avg Loss: -0.9775\n"
     ]
    },
    {
     "name": "stderr",
     "output_type": "stream",
     "text": [
      "                                                                                \r"
     ]
    },
    {
     "name": "stdout",
     "output_type": "stream",
     "text": [
      "Epoch 007 | Avg Loss: -0.9827\n"
     ]
    },
    {
     "name": "stderr",
     "output_type": "stream",
     "text": [
      "                                                                                \r"
     ]
    },
    {
     "name": "stdout",
     "output_type": "stream",
     "text": [
      "Epoch 008 | Avg Loss: -0.9846\n"
     ]
    },
    {
     "name": "stderr",
     "output_type": "stream",
     "text": [
      "                                                                                \r"
     ]
    },
    {
     "name": "stdout",
     "output_type": "stream",
     "text": [
      "Epoch 009 | Avg Loss: -0.9840\n"
     ]
    },
    {
     "name": "stderr",
     "output_type": "stream",
     "text": [
      "                                                                                "
     ]
    },
    {
     "name": "stdout",
     "output_type": "stream",
     "text": [
      "Epoch 010 | Avg Loss: -0.9847\n"
     ]
    },
    {
     "name": "stderr",
     "output_type": "stream",
     "text": [
      "\r"
     ]
    }
   ],
   "source": [
    "import torch\n",
    "import torch.nn as nn\n",
    "from torchvision import models\n",
    "\n",
    "\n",
    "def get_resnet50_backbone():\n",
    "    model = models.resnet50(weights=None)\n",
    "    model.fc = nn.Identity()\n",
    "    return model\n",
    "\n",
    "# Load BYOL\n",
    "byol_model = get_resnet50_backbone()\n",
    "byol_ckpt = torch.load(\n",
    "    \"/Users/siddharthtanwar/Documents/York/DL/sim siam/resnet50_byol_imagenet2012.pth.tar\",\n",
    "    map_location=\"cpu\",\n",
    "    weights_only=False\n",
    ")\n",
    "  # update\n",
    "byol_weights = {k.replace(\"module.\", \"\"): v for k, v in byol_ckpt.items() if k.startswith(\"module.\")}\n",
    "byol_model.load_state_dict(byol_weights, strict=False)\n",
    "\n",
    "# SimCLR\n",
    "simclr_model = get_resnet50_backbone()\n",
    "simclr_ckpt = torch.load(\"/Users/siddharthtanwar/Documents/York/DL/sim siam/checkpoint_100.tar\", map_location=\"cpu\")  # <- update\n",
    "simclr_weights = {k[len(\"encoder.\"):]: v for k, v in simclr_ckpt.items() if k.startswith(\"encoder.\")}\n",
    "simclr_model.load_state_dict(simclr_weights, strict=False)\n",
    "\n",
    "swav_model = load_swav_resnet50_model()\n",
    "\n",
    "\n",
    "\n",
    "# SimSiam : No Predictor\n",
    "simsiam_no_predictor = SimSiamNoPredictor()\n",
    "train_simsiam(simsiam_no_predictor, train_loader, epochs=10, stop_grad=True)  # ← adjust as needed\n",
    "\n"
   ]
  },
  {
   "cell_type": "code",
   "execution_count": 160,
   "id": "56c81985-720b-478f-8b08-5dba028088ee",
   "metadata": {},
   "outputs": [
    {
     "name": "stdout",
     "output_type": "stream",
     "text": [
      "\n",
      "====== Evaluating SimSiam ======\n"
     ]
    },
    {
     "name": "stderr",
     "output_type": "stream",
     "text": [
      "                                                                                \r"
     ]
    },
    {
     "name": "stdout",
     "output_type": "stream",
     "text": [
      "\n",
      "====== Evaluating SimSiam (No Predictor) ======\n"
     ]
    },
    {
     "name": "stderr",
     "output_type": "stream",
     "text": [
      "                                                                                \r"
     ]
    },
    {
     "name": "stdout",
     "output_type": "stream",
     "text": [
      "\n",
      "====== Evaluating BYOL ======\n"
     ]
    },
    {
     "name": "stderr",
     "output_type": "stream",
     "text": [
      "                                                                                \r"
     ]
    },
    {
     "name": "stdout",
     "output_type": "stream",
     "text": [
      "\n",
      "====== Evaluating SimCLR ======\n"
     ]
    },
    {
     "name": "stderr",
     "output_type": "stream",
     "text": [
      "                                                                                \r"
     ]
    },
    {
     "name": "stdout",
     "output_type": "stream",
     "text": [
      "\n",
      "====== Evaluating SwAV ======\n"
     ]
    },
    {
     "name": "stderr",
     "output_type": "stream",
     "text": [
      "                                                                                \r"
     ]
    }
   ],
   "source": [
    "results = evaluate_all_models(\n",
    "    {\n",
    "        \"SimSiam\": simsiam_model,\n",
    "        \"SimSiam (No Predictor)\": simsiam_no_predictor,\n",
    "        \"BYOL\": byol_model,\n",
    "        \"SimCLR\": simclr_model,\n",
    "        \"SwAV\": swav_model,\n",
    "    },\n",
    "    subset_fraction=0.2,  #  Only 20% training data\n",
    "    epochs=1             # Train linear head longer\n",
    ")\n"
   ]
  },
  {
   "cell_type": "code",
   "execution_count": 162,
   "id": "232cefd5-b9b2-4cad-af01-bfb9abff5fd3",
   "metadata": {},
   "outputs": [
    {
     "name": "stdout",
     "output_type": "stream",
     "text": [
      "\n",
      "--- Final Top-1 Accuracy Results ---\n",
      "SimSiam:\n",
      "  Linear Probe Accuracy: 64.27%\n",
      "  k-NN Accuracy (k=20):   60.13%\n",
      "\n",
      "SimSiam (No Predictor):\n",
      "  Linear Probe Accuracy: 58.74%\n",
      "  k-NN Accuracy (k=20):   55.02%\n",
      "\n",
      "BYOL:\n",
      "  Linear Probe Accuracy: 70.91%\n",
      "  k-NN Accuracy (k=20):   67.45%\n",
      "\n",
      "SimCLR:\n",
      "  Linear Probe Accuracy: 72.30%\n",
      "  k-NN Accuracy (k=20):   68.90%\n",
      "\n",
      "SwAV:\n",
      "  Linear Probe Accuracy: 69.42%\n",
      "  k-NN Accuracy (k=20):   65.33%\n",
      "\n"
     ]
    },
    {
     "data": {
      "image/png": "[encoded data removed]",
      "text/plain": [
       "<Figure size 1000x600 with 1 Axes>"
      ]
     },
     "metadata": {},
     "output_type": "display_data"
    },
    {
     "data": {
      "image/png": "[encoded data removed]",
      "text/plain": [
       "<Figure size 1000x600 with 1 Axes>"
      ]
     },
     "metadata": {},
     "output_type": "display_data"
    },
    {
     "data": {
      "image/png": "[encoded data removed]",
      "text/plain": [
       "<Figure size 1000x600 with 1 Axes>"
      ]
     },
     "metadata": {},
     "output_type": "display_data"
    }
   ],
   "source": [
    "print(\"\\n--- Final Top-1 Accuracy Results ---\")\n",
    "for name, acc in results.items():\n",
    "    print(f\"{name}:\")\n",
    "    print(f\"  Linear Probe Accuracy: {acc['linear_top1']:.2f}%\")\n",
    "    print(f\"  k-NN Accuracy (k=20):   {acc['knn_top1']:.2f}%\\n\")\n",
    "import matplotlib.pyplot as plt\n",
    "\n",
    "models = list(results.keys())\n",
    "linear_acc = [v['linear_top1'] for v in results.values()]\n",
    "\n",
    "plt.figure(figsize=(10, 6))\n",
    "plt.bar(models, linear_acc)\n",
    "plt.ylabel(\"Accuracy (%)\")\n",
    "plt.title(\"Linear Probe Accuracy (Top-1)\")\n",
    "plt.xticks(rotation=15)\n",
    "plt.ylim(0, 80)\n",
    "plt.grid(axis='y', linestyle='--', alpha=0.7)\n",
    "plt.tight_layout()\n",
    "plt.show()\n",
    "knn_acc = [v['knn_top1'] for v in results.values()]\n",
    "\n",
    "plt.figure(figsize=(10, 6))\n",
    "plt.bar(models, knn_acc)\n",
    "plt.ylabel(\"Accuracy (%)\")\n",
    "plt.title(\"k-NN Accuracy (Top-1, k=20)\")\n",
    "plt.xticks(rotation=15)\n",
    "plt.ylim(0, 80)\n",
    "plt.grid(axis='y', linestyle='--', alpha=0.7)\n",
    "plt.tight_layout()\n",
    "plt.show()\n",
    "import numpy as np\n",
    "\n",
    "x = np.arange(len(models))\n",
    "width = 0.35\n",
    "\n",
    "fig, ax = plt.subplots(figsize=(10, 6))\n",
    "bars1 = ax.bar(x - width/2, linear_acc, width, label='Linear')\n",
    "bars2 = ax.bar(x + width/2, knn_acc, width, label='k-NN')\n",
    "\n",
    "ax.set_ylabel('Accuracy (%)')\n",
    "ax.set_title('Linear vs k-NN Accuracy by Model')\n",
    "ax.set_xticks(x)\n",
    "ax.set_xticklabels(models, rotation=15)\n",
    "ax.legend()\n",
    "ax.set_ylim(0, 80)\n",
    "ax.grid(axis='y', linestyle='--', alpha=0.7)\n",
    "\n",
    "plt.tight_layout()\n",
    "plt.show()\n"
   ]
  }
 ],
 "metadata": {
  "kernelspec": {
   "display_name": "Python 3 (ipykernel)",
   "language": "python",
   "name": "python3"
  },
  "language_info": {
   "codemirror_mode": {
    "name": "ipython",
    "version": 3
   },
   "file_extension": ".py",
   "mimetype": "text/x-python",
   "name": "python",
   "nbconvert_exporter": "python",
   "pygments_lexer": "ipython3",
   "version": "3.12.4"
  }
 },
 "nbformat": 4,
 "nbformat_minor": 5
}
